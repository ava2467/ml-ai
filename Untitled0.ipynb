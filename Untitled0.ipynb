{
  "nbformat": 4,
  "nbformat_minor": 0,
  "metadata": {
    "colab": {
      "provenance": [],
      "authorship_tag": "ABX9TyNo2DDxqwFsmYvOvnI2UKTl",
      "include_colab_link": true
    },
    "kernelspec": {
      "name": "python3",
      "display_name": "Python 3"
    },
    "language_info": {
      "name": "python"
    }
  },
  "cells": [
    {
      "cell_type": "markdown",
      "metadata": {
        "id": "view-in-github",
        "colab_type": "text"
      },
      "source": [
        "<a href=\"https://colab.research.google.com/github/ava2467/ml-ai/blob/day-1/Untitled0.ipynb\" target=\"_parent\"><img src=\"https://colab.research.google.com/assets/colab-badge.svg\" alt=\"Open In Colab\"/></a>"
      ]
    },
    {
      "cell_type": "code",
      "execution_count": null,
      "metadata": {
        "colab": {
          "base_uri": "https://localhost:8080/"
        },
        "id": "r7dMCca0CSF9",
        "outputId": "ba2f8f72-67b7-4156-cdeb-a1230e0ba3ec"
      },
      "outputs": [
        {
          "output_type": "stream",
          "name": "stdout",
          "text": [
            "Reversed List: ['aneesh', 'vishnu', 'abhishek']\n"
          ]
        }
      ],
      "source": [
        "name = ['abhishek','vishnu','aneesh']\n",
        "name.reverse()\n",
        "print('Reversed List:',name)\n"
      ]
    },
    {
      "cell_type": "code",
      "source": [
        "for i in range(4):\n",
        "  for j in range(4):\n",
        "    print('*',end=\" \")\n",
        "  print(\" \")\n",
        "\n",
        "\n"
      ],
      "metadata": {
        "colab": {
          "base_uri": "https://localhost:8080/"
        },
        "id": "YPSdTi4xIKjD",
        "outputId": "0611ff63-4c6f-467b-ffe4-fb89841b2069"
      },
      "execution_count": null,
      "outputs": [
        {
          "output_type": "stream",
          "name": "stdout",
          "text": [
            "* * * *  \n",
            "* * * *  \n",
            "* * * *  \n",
            "* * * *  \n"
          ]
        }
      ]
    },
    {
      "cell_type": "code",
      "source": [
        "print(\"welcome to \",end='')\n",
        "print(\"the world of python \",end='!')\n",
        "print(\"\\\"welcome to the world of python\\\"\")"
      ],
      "metadata": {
        "colab": {
          "base_uri": "https://localhost:8080/"
        },
        "id": "4-jIh3T0TWHH",
        "outputId": "d9a50f76-3176-42c2-a54f-ccd14d3b4eee"
      },
      "execution_count": null,
      "outputs": [
        {
          "output_type": "stream",
          "name": "stdout",
          "text": [
            "welcome to the world of python !\"welcome to the world of python\"\n"
          ]
        }
      ]
    },
    {
      "cell_type": "code",
      "source": [
        "print(\"gbh\\t\"*3)"
      ],
      "metadata": {
        "colab": {
          "base_uri": "https://localhost:8080/"
        },
        "id": "g6Gqb_qTXL9X",
        "outputId": "879443a6-dbc5-4888-d3d3-96f697ec90a2"
      },
      "execution_count": null,
      "outputs": [
        {
          "output_type": "stream",
          "name": "stdout",
          "text": [
            "gbh\tgbh\tgbh\t\n"
          ]
        }
      ]
    },
    {
      "cell_type": "code",
      "source": [
        "s=\"vishnu\"\n",
        "print(s[0])\n",
        "print(s[-3])\n",
        "print(s[1])\n",
        "print(len(s))"
      ],
      "metadata": {
        "colab": {
          "base_uri": "https://localhost:8080/"
        },
        "id": "Ji54_MOJYPgO",
        "outputId": "b71e63d7-c0c9-4057-a6c2-7342d6e370e6"
      },
      "execution_count": null,
      "outputs": [
        {
          "output_type": "stream",
          "name": "stdout",
          "text": [
            "v\n",
            "h\n",
            "i\n",
            "6\n"
          ]
        }
      ]
    },
    {
      "cell_type": "code",
      "source": [
        "s=\"python\"\n",
        "print(s[0:4])"
      ],
      "metadata": {
        "colab": {
          "base_uri": "https://localhost:8080/"
        },
        "id": "R_-gEy1BY15A",
        "outputId": "15079e8f-2477-498c-f0e4-8366acbb6d00"
      },
      "execution_count": null,
      "outputs": [
        {
          "output_type": "stream",
          "name": "stdout",
          "text": [
            "pyth\n"
          ]
        }
      ]
    },
    {
      "cell_type": "code",
      "source": [
        "print"
      ],
      "metadata": {
        "id": "pO9hi4yWxvQw"
      },
      "execution_count": null,
      "outputs": []
    }
  ]
}