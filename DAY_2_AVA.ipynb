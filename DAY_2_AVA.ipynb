{
  "nbformat": 4,
  "nbformat_minor": 0,
  "metadata": {
    "colab": {
      "provenance": [],
      "authorship_tag": "ABX9TyPshSj/tFAYhItu6mFAFS7U",
      "include_colab_link": true
    },
    "kernelspec": {
      "name": "python3",
      "display_name": "Python 3"
    },
    "language_info": {
      "name": "python"
    }
  },
  "cells": [
    {
      "cell_type": "markdown",
      "metadata": {
        "id": "view-in-github",
        "colab_type": "text"
      },
      "source": [
        "<a href=\"https://colab.research.google.com/github/ava2467/ml-ai/blob/day-2/DAY_2_AVA.ipynb\" target=\"_parent\"><img src=\"https://colab.research.google.com/assets/colab-badge.svg\" alt=\"Open In Colab\"/></a>"
      ]
    },
    {
      "cell_type": "code",
      "execution_count": null,
      "metadata": {
        "id": "-KNCFW_-C4TO"
      },
      "outputs": [],
      "source": [
        "#@title STUDENT DETAILS\n",
        "class student():\n",
        " def __init__(self,name, marks):\n",
        "    self.name=name\n",
        "    self.roll_no=roll_no\n",
        "    self.marks=marks\n",
        "  \n"
      ]
    },
    {
      "cell_type": "code",
      "source": [
        "students1=student('vishnu',43,0,)"
      ],
      "metadata": {
        "id": "Z6kve3oLE2Im"
      },
      "execution_count": null,
      "outputs": []
    },
    {
      "cell_type": "code",
      "source": [
        "students1.name"
      ],
      "metadata": {
        "colab": {
          "base_uri": "https://localhost:8080/",
          "height": 36
        },
        "id": "jG_9PJs8FSMt",
        "outputId": "8454f12e-2fbc-4102-b20c-e22ca5c2b3b2"
      },
      "execution_count": null,
      "outputs": [
        {
          "output_type": "execute_result",
          "data": {
            "text/plain": [
              "'vishnu'"
            ],
            "application/vnd.google.colaboratory.intrinsic+json": {
              "type": "string"
            }
          },
          "metadata": {},
          "execution_count": 24
        }
      ]
    },
    {
      "cell_type": "code",
      "source": [],
      "metadata": {
        "id": "6dYxBXk0Ho9X"
      },
      "execution_count": null,
      "outputs": []
    },
    {
      "cell_type": "code",
      "source": [
        "class student():\n",
        " def __init__(self,name, marks):\n",
        "    self.name=name\n",
        "    self.marks=marks\n",
        "passed= []\n",
        "failed= []\n",
        "students1=student('vishnu',70)\n",
        "students2=student('aneesh',90)\n",
        "students3=student('abhi',100)\n",
        "students4=student('bassi',20)\n"
      ],
      "metadata": {
        "id": "MwvNxtz2Fqor"
      },
      "execution_count": null,
      "outputs": []
    },
    {
      "cell_type": "code",
      "source": [
        "def result(self):\n",
        "    if self.marks>40:\n",
        "      return'pass'\n",
        "    else:\n",
        "      return'fail'"
      ],
      "metadata": {
        "id": "lzHzr8Y2LtNg"
      },
      "execution_count": null,
      "outputs": []
    },
    {
      "cell_type": "code",
      "source": [
        "s1=student('vishnu',70)\n",
        "s2=student('aneesh',90)\n",
        "s3=student('abhi',100)\n",
        "s4=student('bassi',20)"
      ],
      "metadata": {
        "id": "Tnr02_BqJc0Q"
      },
      "execution_count": null,
      "outputs": []
    },
    {
      "cell_type": "code",
      "source": [
        "student_name=[s1,s2,s3,s4]\n",
        "\n",
        "\n",
        "\n",
        "\n"
      ],
      "metadata": {
        "id": "qoipEOpVKq77"
      },
      "execution_count": null,
      "outputs": []
    },
    {
      "cell_type": "code",
      "source": [
        "fail=[]\n",
        "for i in range(3):\n",
        "  if students_name[i].marks<40:\n",
        "    fail.append(students_name[i].marks)"
      ],
      "metadata": {
        "colab": {
          "base_uri": "https://localhost:8080/",
          "height": 217
        },
        "id": "htEaSs6GMRug",
        "outputId": "df8311c7-4afd-4ebc-fe11-2cf63f4d2796"
      },
      "execution_count": null,
      "outputs": [
        {
          "output_type": "error",
          "ename": "NameError",
          "evalue": "ignored",
          "traceback": [
            "\u001b[0;31m---------------------------------------------------------------------------\u001b[0m",
            "\u001b[0;31mNameError\u001b[0m                                 Traceback (most recent call last)",
            "\u001b[0;32m<ipython-input-47-afc63951e902>\u001b[0m in \u001b[0;36m<cell line: 2>\u001b[0;34m()\u001b[0m\n\u001b[1;32m      1\u001b[0m \u001b[0mfail\u001b[0m\u001b[0;34m=\u001b[0m\u001b[0;34m[\u001b[0m\u001b[0;34m]\u001b[0m\u001b[0;34m\u001b[0m\u001b[0;34m\u001b[0m\u001b[0m\n\u001b[1;32m      2\u001b[0m \u001b[0;32mfor\u001b[0m \u001b[0mi\u001b[0m \u001b[0;32min\u001b[0m \u001b[0mrange\u001b[0m\u001b[0;34m(\u001b[0m\u001b[0;36m3\u001b[0m\u001b[0;34m)\u001b[0m\u001b[0;34m:\u001b[0m\u001b[0;34m\u001b[0m\u001b[0;34m\u001b[0m\u001b[0m\n\u001b[0;32m----> 3\u001b[0;31m   \u001b[0;32mif\u001b[0m \u001b[0mstudents_name\u001b[0m\u001b[0;34m[\u001b[0m\u001b[0mi\u001b[0m\u001b[0;34m]\u001b[0m\u001b[0;34m.\u001b[0m\u001b[0mmarks\u001b[0m\u001b[0;34m<\u001b[0m\u001b[0;36m40\u001b[0m\u001b[0;34m:\u001b[0m\u001b[0;34m\u001b[0m\u001b[0;34m\u001b[0m\u001b[0m\n\u001b[0m\u001b[1;32m      4\u001b[0m     \u001b[0mfail\u001b[0m\u001b[0;34m.\u001b[0m\u001b[0mappend\u001b[0m\u001b[0;34m(\u001b[0m\u001b[0mstudents_name\u001b[0m\u001b[0;34m[\u001b[0m\u001b[0mi\u001b[0m\u001b[0;34m]\u001b[0m\u001b[0;34m.\u001b[0m\u001b[0mmarks\u001b[0m\u001b[0;34m)\u001b[0m\u001b[0;34m\u001b[0m\u001b[0;34m\u001b[0m\u001b[0m\n",
            "\u001b[0;31mNameError\u001b[0m: name 'students_name' is not defined"
          ]
        }
      ]
    },
    {
      "cell_type": "code",
      "source": [
        "pass_list=[]\n",
        "fail_list=[]\n",
        "sort_list=[]\n",
        "for x in students_name:\n",
        "  "
      ],
      "metadata": {
        "id": "8Be9mXxhNxRJ"
      },
      "execution_count": null,
      "outputs": []
    },
    {
      "cell_type": "code",
      "source": [
        "\n",
        " class Circle:\n",
        "    def __init__(self, radius):\n",
        "        self.radius = radius\n",
        "    def area(self):\n",
        "        return 3.14 * self.radius ** 2\n",
        "    \n",
        "    def perimeter(self):\n",
        "        return 2 * 3.14 * self.radius\n",
        "radius=int(input(\"enter the radius\"))\n",
        "c= Circle(radius)\n",
        "\n",
        "print(\"Area:\", c.area())\n",
        "print(\"Perimeter:\", c.perimeter())"
      ],
      "metadata": {
        "colab": {
          "base_uri": "https://localhost:8080/"
        },
        "id": "6Rq7orsoUWrh",
        "outputId": "14e5cd2b-e34b-4e68-c3b6-7c0a4172b807"
      },
      "execution_count": null,
      "outputs": [
        {
          "output_type": "stream",
          "name": "stdout",
          "text": [
            "enter the radius3\n",
            "Area: 28.26\n",
            "Perimeter: 18.84\n"
          ]
        }
      ]
    },
    {
      "cell_type": "code",
      "source": [],
      "metadata": {
        "id": "ahJUDBpVU0C1"
      },
      "execution_count": null,
      "outputs": []
    }
  ]
}