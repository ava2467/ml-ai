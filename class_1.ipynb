{
  "nbformat": 4,
  "nbformat_minor": 0,
  "metadata": {
    "colab": {
      "provenance": [],
      "authorship_tag": "ABX9TyPcG03R03gzw0XJa+a21Tb7",
      "include_colab_link": true
    },
    "kernelspec": {
      "name": "python3",
      "display_name": "Python 3"
    },
    "language_info": {
      "name": "python"
    }
  },
  "cells": [
    {
      "cell_type": "markdown",
      "metadata": {
        "id": "view-in-github",
        "colab_type": "text"
      },
      "source": [
        "<a href=\"https://colab.research.google.com/github/ava2467/ml-ai/blob/day-1/class_1.ipynb\" target=\"_parent\"><img src=\"https://colab.research.google.com/assets/colab-badge.svg\" alt=\"Open In Colab\"/></a>"
      ]
    },
    {
      "cell_type": "code",
      "execution_count": null,
      "metadata": {
        "colab": {
          "base_uri": "https://localhost:8080/"
        },
        "id": "w25Rmgqh1jSh",
        "outputId": "8bf1ce65-a2a8-4052-8cc0-6f697634e3c6"
      },
      "outputs": [
        {
          "output_type": "stream",
          "name": "stdout",
          "text": [
            "enter a number2\n",
            "2 n is a prime number\n"
          ]
        }
      ],
      "source": [
        "n=int(input (\"enter a number\"))\n",
        "count=0\n",
        "for i in range(1,n):\n",
        "   if n% i==0:\n",
        "    count+=1\n",
        "if count<3:\n",
        "  print(n,\" is a prime number\")\n",
        "else:\n",
        "    print(n,\" is not a prime number\")\n"
      ]
    },
    {
      "cell_type": "code",
      "source": [
        "n=int(input(\"enter the year:\"))\n",
        "if n%4!=0:\n",
        "  print(n,\"is not a leap year\")\n",
        "else:\n",
        "  if n%100!=0:\n",
        "    print(n,\"is a leap year\")\n",
        "  else:\n",
        "      if n%400==0:\n",
        "         print(n,\"is a leap year\")\n",
        "      else:\n",
        "          print(n,\"is not a leap year\")"
      ],
      "metadata": {
        "colab": {
          "base_uri": "https://localhost:8080/"
        },
        "id": "-T17AV-Z5WuZ",
        "outputId": "d2e8651a-bc47-4834-9d09-91fc568c8f39"
      },
      "execution_count": null,
      "outputs": [
        {
          "output_type": "stream",
          "name": "stdout",
          "text": [
            "enter the year:2020\n",
            "2020 is a leap year\n"
          ]
        }
      ]
    },
    {
      "cell_type": "code",
      "source": [
        "n=int(input(\"enter the number\"))\n",
        "sum=0\n",
        "for i in range (1,n):\n",
        "  sum=sum+i\n",
        "print(sum)"
      ],
      "metadata": {
        "colab": {
          "base_uri": "https://localhost:8080/"
        },
        "id": "uXBJozaY_Crt",
        "outputId": "d5324732-3ad6-4573-b155-b2c306c086fc"
      },
      "execution_count": null,
      "outputs": [
        {
          "output_type": "stream",
          "name": "stdout",
          "text": [
            "enter the number44\n",
            "946\n"
          ]
        }
      ]
    },
    {
      "cell_type": "code",
      "source": [
        "def hello():\n",
        "  print('vishnu')"
      ],
      "metadata": {
        "id": "_J4dKfU6_EFp"
      },
      "execution_count": null,
      "outputs": []
    },
    {
      "cell_type": "code",
      "source": [
        "hello()"
      ],
      "metadata": {
        "id": "dSSVhvYlF3j1",
        "outputId": "6fff029b-3224-48b8-9add-89fa47db71da",
        "colab": {
          "base_uri": "https://localhost:8080/"
        }
      },
      "execution_count": null,
      "outputs": [
        {
          "output_type": "stream",
          "name": "stdout",
          "text": [
            "vishnu\n"
          ]
        }
      ]
    },
    {
      "cell_type": "code",
      "source": [
        "def addnumber(num1,num2):\n",
        "  sum=num1+num2\n",
        "  print(sum)"
      ],
      "metadata": {
        "id": "0D4pGh3eF8BG"
      },
      "execution_count": null,
      "outputs": []
    },
    {
      "cell_type": "code",
      "source": [
        "addnumber(4,5)"
      ],
      "metadata": {
        "colab": {
          "base_uri": "https://localhost:8080/"
        },
        "id": "bA6xw2vWGozM",
        "outputId": "4f018a04-9a85-4fb4-abfa-d9ef46d60ebe"
      },
      "execution_count": null,
      "outputs": [
        {
          "output_type": "stream",
          "name": "stdout",
          "text": [
            "9\n"
          ]
        }
      ]
    },
    {
      "cell_type": "code",
      "source": [
        "def square(number):\n",
        "   n=number*number\n",
        "   print(n)\n",
        "    "
      ],
      "metadata": {
        "id": "jrtrfD7RGtdC"
      },
      "execution_count": null,
      "outputs": []
    },
    {
      "cell_type": "code",
      "source": [
        "square(4)"
      ],
      "metadata": {
        "colab": {
          "base_uri": "https://localhost:8080/"
        },
        "id": "mYqO41nLKL1u",
        "outputId": "7f75d9c0-9f59-42d1-d31a-a6f8b4bbe62e"
      },
      "execution_count": null,
      "outputs": [
        {
          "output_type": "stream",
          "name": "stdout",
          "text": [
            "16\n"
          ]
        }
      ]
    },
    {
      "cell_type": "code",
      "source": [],
      "metadata": {
        "id": "brxQZFY0KVzk"
      },
      "execution_count": null,
      "outputs": []
    }
  ]
}