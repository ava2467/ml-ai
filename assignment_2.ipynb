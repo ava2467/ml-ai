{
  "nbformat": 4,
  "nbformat_minor": 0,
  "metadata": {
    "colab": {
      "provenance": [],
      "include_colab_link": true
    },
    "kernelspec": {
      "name": "python3",
      "display_name": "Python 3"
    },
    "language_info": {
      "name": "python"
    }
  },
  "cells": [
    {
      "cell_type": "markdown",
      "metadata": {
        "id": "view-in-github",
        "colab_type": "text"
      },
      "source": [
        "<a href=\"https://colab.research.google.com/github/ava2467/ml-ai/blob/main/assignment_2.ipynb\" target=\"_parent\"><img src=\"https://colab.research.google.com/assets/colab-badge.svg\" alt=\"Open In Colab\"/></a>"
      ]
    },
    {
      "cell_type": "code",
      "execution_count": null,
      "metadata": {
        "colab": {
          "base_uri": "https://localhost:8080/"
        },
        "id": "jJc1a1HUhQ81",
        "outputId": "781a8f28-6c7f-4cc4-85ab-2d8e8360822e"
      },
      "outputs": [
        {
          "output_type": "stream",
          "name": "stdout",
          "text": [
            "Reversed list ['lemon', 'mango', 'orange', 'banana']\n"
          ]
        }
      ],
      "source": [
        "#@title Reverse fruit list\n",
        "fr=['banana','orange','mango','lemon']\n",
        "reverse=[]\n",
        "for val in fr:\n",
        "  reverse=[val]+reverse\n",
        "print(\"Reversed list\",reverse)"
      ]
    },
    {
      "cell_type": "code",
      "source": [
        "#@title Fibonacci series\n",
        "n1=0\n",
        "n2=1\n",
        "c=0\n",
        "print(\"Fibonacci series:\")\n",
        "while c<10:\n",
        "  print(n1)\n",
        "  n3=n1+n2\n",
        "  n1=n2\n",
        "  n2=n3\n",
        "  c+=1\n"
      ],
      "metadata": {
        "colab": {
          "base_uri": "https://localhost:8080/"
        },
        "id": "mknCbQ6Xh2UF",
        "outputId": "6e97eb70-7a21-4960-c5ca-7bc3cd9cdb71"
      },
      "execution_count": null,
      "outputs": [
        {
          "output_type": "stream",
          "name": "stdout",
          "text": [
            "Fibonacci series:\n",
            "0\n",
            "1\n",
            "1\n",
            "2\n",
            "3\n",
            "5\n",
            "8\n",
            "13\n",
            "21\n",
            "34\n"
          ]
        }
      ]
    },
    {
      "cell_type": "code",
      "source": [
        "#@title Prime numbers\n",
        "n=1\n",
        "count=0\n",
        "while n<100:\n",
        "   i=1\n",
        "   c=0\n",
        "   while i<=n:\n",
        "     if(n%i==0):\n",
        "       c+=1\n",
        "     i+=1\n",
        "   if(c==2):\n",
        "      count+=1\n",
        "      print(n)\n",
        "    \n",
        "   n+=1\n",
        "print(\"Total prime numbers\",count)"
      ],
      "metadata": {
        "colab": {
          "base_uri": "https://localhost:8080/"
        },
        "id": "nfm8GSsjjT_f",
        "outputId": "9229fc66-a9d9-4941-d498-99906156b74c"
      },
      "execution_count": null,
      "outputs": [
        {
          "output_type": "stream",
          "name": "stdout",
          "text": [
            "2\n",
            "3\n",
            "5\n",
            "7\n",
            "11\n",
            "13\n",
            "17\n",
            "19\n",
            "23\n",
            "29\n",
            "31\n",
            "37\n",
            "41\n",
            "43\n",
            "47\n",
            "53\n",
            "59\n",
            "61\n",
            "67\n",
            "71\n",
            "73\n",
            "79\n",
            "83\n",
            "89\n",
            "97\n",
            "Total prime numbers 25\n"
          ]
        }
      ]
    },
    {
      "cell_type": "code",
      "source": [
        "#@title Odd or even\n",
        "n=int(input(\"Enter a number:\"))\n",
        "if(n%2==0):\n",
        "  sq=n*n\n",
        "  print(\"Even number and its square is:\",sq)\n",
        "else:\n",
        "  cu=n*n*n\n",
        "  print(\"Odd number and its cube is:\",cu)\n"
      ],
      "metadata": {
        "colab": {
          "base_uri": "https://localhost:8080/"
        },
        "id": "ROa-dK5ph5U7",
        "outputId": "fc292c46-d77f-4055-c0a3-ed501b19faa5"
      },
      "execution_count": null,
      "outputs": [
        {
          "output_type": "stream",
          "name": "stdout",
          "text": [
            "Enter a number:3\n",
            "Odd number and its cube is: 27\n"
          ]
        }
      ]
    },
    {
      "cell_type": "code",
      "source": [
        "#@title Longest word\n",
        "sentence = input(\"Enter sentence: \")\n",
        "longest = max(sentence.split(), key=len)\n",
        "print(\"Longest word is: \", longest)"
      ],
      "metadata": {
        "colab": {
          "base_uri": "https://localhost:8080/"
        },
        "id": "GsEwdQXXkZ5U",
        "outputId": "cd44595d-8916-47e4-b924-ce110351ecc6"
      },
      "execution_count": null,
      "outputs": [
        {
          "output_type": "stream",
          "name": "stdout",
          "text": [
            "Enter sentence: hello welcome to\n",
            "Longest word is:  welcome\n"
          ]
        }
      ]
    },
    {
      "cell_type": "code",
      "source": [
        "#@title Average of 5 numbers\n",
        "n=[]\n",
        "s=0\n",
        "for i in range(0, 5):\n",
        "    num = int(input(\"Enter number:\"))\n",
        "    s=s+num\n",
        "    n.append(num) \n",
        "print(\"Average:\",s/5)"
      ],
      "metadata": {
        "colab": {
          "base_uri": "https://localhost:8080/"
        },
        "id": "4Ov09sERlJf4",
        "outputId": "45289b36-77a9-4b9f-9064-b0f643bfb91f"
      },
      "execution_count": null,
      "outputs": [
        {
          "output_type": "stream",
          "name": "stdout",
          "text": [
            "Enter number:3\n",
            "Enter number:2\n",
            "Enter number:8\n",
            "Enter number:7\n",
            "Enter number:1\n",
            "Average: 4.2\n"
          ]
        }
      ]
    },
    {
      "cell_type": "code",
      "source": [
        "#@title Sum of digits\n",
        "n=int(input(\"Enter a number:\"))\n",
        "sum=0\n",
        "while(n>0):\n",
        "    d=n%10\n",
        "    sum=sum+d\n",
        "    n=n//10\n",
        "print(\"The total sum of digits is:\",sum)\n"
      ],
      "metadata": {
        "colab": {
          "base_uri": "https://localhost:8080/"
        },
        "id": "ocIglKdDl4io",
        "outputId": "387d3c0e-f198-45bf-90a3-b37507b3f464"
      },
      "execution_count": null,
      "outputs": [
        {
          "output_type": "stream",
          "name": "stdout",
          "text": [
            "Enter a number:56\n",
            "The total sum of digits is: 11\n"
          ]
        }
      ]
    },
    {
      "cell_type": "code",
      "source": [
        "#@title Loan\n",
        "principal=100000\n",
        "rate=5\n",
        "for i in range(1,6):\n",
        "  interest=0\n",
        "  amount=0\n",
        "  interest=principal*rate\n",
        "  amount=principal+interest\n",
        "  principal=amount\n",
        "  print(\"Interest for year\",i,\"is:\",interest)\n",
        "  print(\"Amount for year\",i,\" is:\",amount)\n",
        "  print(\"\")\n",
        "\n"
      ],
      "metadata": {
        "colab": {
          "base_uri": "https://localhost:8080/"
        },
        "id": "RkzTS-vhmSUW",
        "outputId": "07cbe3bd-ca0d-4908-f5e0-8c8aaac4afd5"
      },
      "execution_count": null,
      "outputs": [
        {
          "output_type": "stream",
          "name": "stdout",
          "text": [
            "Interest for year 1 is: 500000\n",
            "Amount for year 1  is: 600000\n",
            "\n",
            "Interest for year 2 is: 3000000\n",
            "Amount for year 2  is: 3600000\n",
            "\n",
            "Interest for year 3 is: 18000000\n",
            "Amount for year 3  is: 21600000\n",
            "\n",
            "Interest for year 4 is: 108000000\n",
            "Amount for year 4  is: 129600000\n",
            "\n",
            "Interest for year 5 is: 648000000\n",
            "Amount for year 5  is: 777600000\n",
            "\n"
          ]
        }
      ]
    },
    {
      "cell_type": "code",
      "source": [
        "#@title Leap year\n",
        "years=[2034,2048]\n",
        "for yr in years:\n",
        " if yr%4==0:\n",
        "   if yr%100!=0:\n",
        "    print(yr,\":Leap year\")\n",
        "   elif yr%400==0:\n",
        "    print(yr,\":Leap year\")\n",
        " else:\n",
        "    print(yr,\":Not leap year\")\n"
      ],
      "metadata": {
        "colab": {
          "base_uri": "https://localhost:8080/"
        },
        "id": "H2XuLYVDp0eL",
        "outputId": "901ebbcd-9362-4869-aed1-5d0f5ea900aa"
      },
      "execution_count": null,
      "outputs": [
        {
          "output_type": "stream",
          "name": "stdout",
          "text": [
            "2034 :Not leap year\n",
            "2048 :Leap year\n"
          ]
        }
      ]
    }
  ]
}